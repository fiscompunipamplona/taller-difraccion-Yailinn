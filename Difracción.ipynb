{
 "cells": [
  {
   "cell_type": "markdown",
   "metadata": {},
   "source": [
    "  * **Espectro de difracción**"
   ]
  },
  {
   "cell_type": "markdown",
   "metadata": {},
   "source": [
    "Hallando $$J_{m}(x)=\\frac{1}{\\pi} \\int_{0}^{\\pi} \\cos(m\\theta-x\\sin\\theta) d\\theta$$ donde $x=[0,...,20]$, $m=[0, 1, 2]$ "
   ]
  },
  {
   "cell_type": "code",
   "execution_count": 18,
   "metadata": {},
   "outputs": [
    {
     "name": "stdout",
     "output_type": "stream",
     "text": [
      "\tPOR EL MÉTODO DE SIMPSON\n",
      "\n",
      "\t\tPara m =  0\n",
      "\tPara x = 0 ,  I = 0.999999999999998\n",
      "\tPara x = 1 ,  I = 0.7651976865579668\n",
      "\tPara x = 2 ,  I = 0.22389077914123565\n",
      "\tPara x = 3 ,  I = -0.2600519549019332\n",
      "\tPara x = 4 ,  I = -0.39714980986384735\n",
      "\tPara x = 5 ,  I = -0.17759677131433838\n",
      "\tPara x = 6 ,  I = 0.15064525725099695\n",
      "\tPara x = 7 ,  I = 0.3000792705195557\n",
      "\tPara x = 8 ,  I = 0.1716508071375541\n",
      "\tPara x = 9 ,  I = -0.09033361118287613\n",
      "\tPara x = 10 ,  I = -0.2459357644513484\n",
      "\tPara x = 11 ,  I = -0.17119030040719604\n",
      "\tPara x = 12 ,  I = 0.04768931079683353\n",
      "\tPara x = 13 ,  I = 0.20692610237706763\n",
      "\tPara x = 14 ,  I = 0.1710734761104587\n",
      "\tPara x = 15 ,  I = -0.01422447282678075\n",
      "\tPara x = 16 ,  I = -0.17489907398362894\n",
      "\tPara x = 17 ,  I = -0.16985425215118333\n",
      "\tPara x = 18 ,  I = -0.01335580572198411\n",
      "\tPara x = 19 ,  I = 0.1466294396596514\n",
      "\tPara x = 20 ,  I = 0.1670246643405832\n",
      "\n",
      "\t\tPara m =  1\n",
      "\tPara x = 0 ,  I = -2.8406096919120216e-17\n",
      "\tPara x = 1 ,  I = 0.4400505857449336\n",
      "\tPara x = 2 ,  I = 0.5767248077568737\n",
      "\tPara x = 3 ,  I = 0.33905895852593687\n",
      "\tPara x = 4 ,  I = -0.06604332802354916\n",
      "\tPara x = 5 ,  I = -0.32757913759146506\n",
      "\tPara x = 6 ,  I = -0.2766838581275658\n",
      "\tPara x = 7 ,  I = -0.00468282348234584\n",
      "\tPara x = 8 ,  I = 0.2346363468539148\n",
      "\tPara x = 9 ,  I = 0.24531178657332542\n",
      "\tPara x = 10 ,  I = 0.04347274616886143\n",
      "\tPara x = 11 ,  I = -0.17678529895672146\n",
      "\tPara x = 12 ,  I = -0.22344710449062746\n",
      "\tPara x = 13 ,  I = -0.07031805212177843\n",
      "\tPara x = 14 ,  I = 0.13337515469879324\n",
      "\tPara x = 15 ,  I = 0.20510403861352283\n",
      "\tPara x = 16 ,  I = 0.09039717566130426\n",
      "\tPara x = 17 ,  I = -0.09766849275778076\n",
      "\tPara x = 18 ,  I = -0.18799488548806959\n",
      "\tPara x = 19 ,  I = -0.10570143114240924\n",
      "\tPara x = 20 ,  I = 0.06683312417585001\n",
      "\n",
      "\t\tPara m =  2\n",
      "\tPara x = 0 ,  I = 3.458604930228759e-17\n",
      "\tPara x = 1 ,  I = 0.11490348493190046\n",
      "\tPara x = 2 ,  I = 0.3528340286156377\n",
      "\tPara x = 3 ,  I = 0.48609126058589164\n",
      "\tPara x = 4 ,  I = 0.3641281458520729\n",
      "\tPara x = 5 ,  I = 0.04656511627775229\n",
      "\tPara x = 6 ,  I = -0.24287320996018538\n",
      "\tPara x = 7 ,  I = -0.30141722008594024\n",
      "\tPara x = 8 ,  I = -0.11299172042407522\n",
      "\tPara x = 9 ,  I = 0.14484734153250398\n",
      "\tPara x = 10 ,  I = 0.2546303136851205\n",
      "\tPara x = 11 ,  I = 0.1390475187787014\n",
      "\tPara x = 12 ,  I = -0.08493049487860478\n",
      "\tPara x = 13 ,  I = -0.21774426424195673\n",
      "\tPara x = 14 ,  I = -0.1520198825820596\n",
      "\tPara x = 15 ,  I = 0.041571677975250444\n",
      "\tPara x = 16 ,  I = 0.18619872094129222\n",
      "\tPara x = 17 ,  I = 0.15836384123850353\n",
      "\tPara x = 18 ,  I = -0.007532514887801374\n",
      "\tPara x = 19 ,  I = -0.15775590609569431\n",
      "\tPara x = 20 ,  I = -0.16034135192299806\n"
     ]
    }
   ],
   "source": [
    "from math import*\n",
    "from numpy import*\n",
    "from pylab import plot, imshow\n",
    "N=1000\n",
    "b=pi\n",
    "a=0\n",
    "h=(b-a)/N\n",
    "A=[]\n",
    "B=[]\n",
    "print('\\tPOR EL MÉTODO DE SIMPSON')\n",
    "for m in range(0,3,1):\n",
    "    print('\\n\\t\\tPara m = ',m)\n",
    "    for x in range(0,21,1):\n",
    "        a=0\n",
    "        b=pi\n",
    "        it1=0\n",
    "        it2=0    \n",
    "        for k in range(1,(N//2)+1):\n",
    "            theta1=a+(2*k-1)*h\n",
    "            y1=(h/(3*pi))*(cos(m*theta1-x*sin(theta1)))\n",
    "            it1+=y1\n",
    "        for k in range(1,((N//2)-1)+1):\n",
    "            theta2=a+(2*k*h)\n",
    "            y2=(h/(3*pi))*(cos(m*theta2-x*sin(theta2)))\n",
    "            it2+=y2\n",
    "        I=4*it1+2*it2\n",
    "        It=(h/3)*(1/pi)*(cos(m*a-x*sin(a))+cos(m*b-x*sin(b)))+I\n",
    "    \n",
    "        print('\\tPara x =',x,',  I =',It)"
   ]
  },
  {
   "cell_type": "markdown",
   "metadata": {},
   "source": [
    "* **Gráficas** "
   ]
  },
  {
   "cell_type": "code",
   "execution_count": 67,
   "metadata": {},
   "outputs": [
    {
     "data": {
      "image/png": "[encoded data removed]",
      "text/plain": [
       "<Figure size 432x288 with 1 Axes>"
      ]
     },
     "metadata": {
      "needs_background": "light"
     },
     "output_type": "display_data"
    }
   ],
   "source": [
    "A=[]\n",
    "B=[]\n",
    "C=[]\n",
    "D=[]\n",
    "E=[]\n",
    "F=[]\n",
    "for x in range(0,21,1):\n",
    "        m=0\n",
    "        a=0\n",
    "        b=pi\n",
    "        it1=0\n",
    "        it2=0    \n",
    "        for k in range(1,(N//2)+1):\n",
    "            theta1=a+(2*k-1)*h\n",
    "            y1=(h/(3*pi))*(cos(m*theta1-x*sin(theta1)))\n",
    "            it1+=y1\n",
    "        for k in range(1,((N//2)-1)+1):\n",
    "            theta2=a+(2*k*h)\n",
    "            y2=(h/(3*pi))*(cos(m*theta2-x*sin(theta2)))\n",
    "            it2+=y2\n",
    "        I=4*it1+2*it2\n",
    "        It=(h/3)*(1/pi)*(cos(m*a-x*sin(a))+cos(m*b-x*sin(b)))+I\n",
    "\n",
    "        A.append(It)\n",
    "        B.append(x)\n",
    "        plot(B,A,'--r')\n",
    "for x in range(0,21,1):\n",
    "        m=1\n",
    "        a=0\n",
    "        b=pi\n",
    "        it1=0\n",
    "        it2=0    \n",
    "        for k in range(1,(N//2)+1):\n",
    "            theta1=a+(2*k-1)*h\n",
    "            y1=(h/(3*pi))*(cos(m*theta1-x*sin(theta1)))\n",
    "            it1+=y1\n",
    "        for k in range(1,((N//2)-1)+1):\n",
    "            theta2=a+(2*k*h)\n",
    "            y2=(h/(3*pi))*(cos(m*theta2-x*sin(theta2)))\n",
    "            it2+=y2\n",
    "        I=4*it1+2*it2\n",
    "        It=(h/3)*(1/pi)*(cos(m*a-x*sin(a))+cos(m*b-x*sin(b)))+I\n",
    "\n",
    "        C.append(It)\n",
    "        D.append(x)\n",
    "        plot(D,C,'--g')\n",
    "for x in range(0,21,1):\n",
    "        m=2\n",
    "        a=0\n",
    "        b=pi\n",
    "        it1=0\n",
    "        it2=0    \n",
    "        for k in range(1,(N//2)+1):\n",
    "            theta1=a+(2*k-1)*h\n",
    "            y1=(h/(3*pi))*(cos(m*theta1-x*sin(theta1)))\n",
    "            it1+=y1\n",
    "        for k in range(1,((N//2)-1)+1):\n",
    "            theta2=a+(2*k*h)\n",
    "            y2=(h/(3*pi))*(cos(m*theta2-x*sin(theta2)))\n",
    "            it2+=y2\n",
    "        I=4*it1+2*it2\n",
    "        It=(h/3)*(1/pi)*(cos(m*a-x*sin(a))+cos(m*b-x*sin(b)))+I\n",
    "\n",
    "        E.append(It)\n",
    "        F.append(x)\n",
    "        plot(F,E,'--b')"
   ]
  },
  {
   "cell_type": "markdown",
   "metadata": {},
   "source": [
    "* **Calculando Ir** "
   ]
  },
  {
   "cell_type": "markdown",
   "metadata": {},
   "source": [
    "Con la función de Bessel para $m=1$"
   ]
  },
  {
   "cell_type": "markdown",
   "metadata": {},
   "source": [
    "Hallando $I_{r}=(\\frac{J_{1}(k\\vec{r})}{k\\vec{r}})^{2}$ donde $\\vec{r}=[0,...,10^{-6}]$, $k=\\frac{2\\pi}{\\lambda}$ y la función de Bessel calculada a partir de $$J_{m}(x)=\\frac{1}{\\pi} \\int_{0}^{\\pi} \\cos(m\\theta-x\\sin\\theta) d\\theta$$"
   ]
  },
  {
   "cell_type": "code",
   "execution_count": 62,
   "metadata": {},
   "outputs": [
    {
     "data": {
      "text/plain": [
       "<matplotlib.image.AxesImage at 0x7f5abaa3f128>"
      ]
     },
     "execution_count": 62,
     "metadata": {},
     "output_type": "execute_result"
    },
    {
     "data": {
      "image/png": "[encoded data removed]",
      "text/plain": [
       "<Figure size 432x288 with 1 Axes>"
      ]
     },
     "metadata": {
      "needs_background": "light"
     },
     "output_type": "display_data"
    }
   ],
   "source": [
    "from numpy import*\n",
    "from pylab import *\n",
    "\n",
    "N = 1000\n",
    "a = 0\n",
    "b = pi\n",
    "h = (b-a)/N\n",
    "def J(m,x):\n",
    "\n",
    "    def f(teta):\n",
    "        return cos(m*teta - x*sin(teta))\n",
    "    \n",
    "    s = f(a) + f(b) + 4*f(b-h)\n",
    "    for k in range(1,N//2):\n",
    "        s += 4*f(a + (2*k-1)*h) + 2*f(a+2*k*h)\n",
    "        \n",
    "    I = h/3*s/pi\n",
    "    \n",
    "    return I\n",
    "\n",
    "x,y = mgrid[-1:1:100j,-1:1:100j]\n",
    "r = sqrt(x**2 + y**2)\n",
    "l = 0.5\n",
    "k = 2*pi/l\n",
    "\n",
    "I = (J(1,r*k)/(k*r))**2\n",
    "imshow(I,vmax=0.1/10,extent=(-1,1,-1,1))"
   ]
  }
 ],
 "metadata": {
  "kernelspec": {
   "display_name": "Python 3",
   "language": "python",
   "name": "python3"
  },
  "language_info": {
   "codemirror_mode": {
    "name": "ipython",
    "version": 3
   },
   "file_extension": ".py",
   "mimetype": "text/x-python",
   "name": "python",
   "nbconvert_exporter": "python",
   "pygments_lexer": "ipython3",
   "version": "3.5.2"
  }
 },
 "nbformat": 4,
 "nbformat_minor": 2
}
